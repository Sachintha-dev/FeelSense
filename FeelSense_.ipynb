{
  "nbformat": 4,
  "nbformat_minor": 0,
  "metadata": {
    "colab": {
      "provenance": [],
      "mount_file_id": "1FKxZUQPVcqrEVPao30droBhYG_7ryuJe",
      "authorship_tag": "ABX9TyMy/7hhOD0Xfmm/nzZIrG6N",
      "include_colab_link": true
    },
    "kernelspec": {
      "name": "python3",
      "display_name": "Python 3"
    },
    "language_info": {
      "name": "python"
    }
  },
  "cells": [
    {
      "cell_type": "markdown",
      "metadata": {
        "id": "view-in-github",
        "colab_type": "text"
      },
      "source": [
        "<a href=\"https://colab.research.google.com/github/Sachintha-dev/FeelSense/blob/dev/FeelSense_.ipynb\" target=\"_parent\"><img src=\"https://colab.research.google.com/assets/colab-badge.svg\" alt=\"Open In Colab\"/></a>"
      ]
    },
    {
      "cell_type": "code",
      "execution_count": 76,
      "metadata": {
        "colab": {
          "base_uri": "https://localhost:8080/"
        },
        "id": "QsFhneZU93NH",
        "outputId": "98b27b59-4cd9-47b0-cebb-5adb72171bf9"
      },
      "outputs": [
        {
          "output_type": "stream",
          "name": "stdout",
          "text": [
            "Drive already mounted at /content/drive; to attempt to forcibly remount, call drive.mount(\"/content/drive\", force_remount=True).\n"
          ]
        }
      ],
      "source": [
        "from google.colab import drive\n",
        "drive.mount('/content/drive')"
      ]
    },
    {
      "cell_type": "code",
      "source": [
        "Path = 'drive/MyDrive/FeelSense Dataset/'"
      ],
      "metadata": {
        "id": "x9Kcx0ne_RFs"
      },
      "execution_count": 77,
      "outputs": []
    },
    {
      "cell_type": "code",
      "source": [
        "!pip install scikit-learn\n",
        "import pandas as pd\n",
        "from sklearn.preprocessing import StandardScaler"
      ],
      "metadata": {
        "colab": {
          "base_uri": "https://localhost:8080/"
        },
        "id": "tUCeyxPHCPrq",
        "outputId": "f8a78862-97c0-4632-c6ae-be7a36c23a6c"
      },
      "execution_count": 90,
      "outputs": [
        {
          "output_type": "stream",
          "name": "stdout",
          "text": [
            "Requirement already satisfied: scikit-learn in /usr/local/lib/python3.10/dist-packages (1.3.2)\n",
            "Requirement already satisfied: numpy<2.0,>=1.17.3 in /usr/local/lib/python3.10/dist-packages (from scikit-learn) (1.26.4)\n",
            "Requirement already satisfied: scipy>=1.5.0 in /usr/local/lib/python3.10/dist-packages (from scikit-learn) (1.13.1)\n",
            "Requirement already satisfied: joblib>=1.1.1 in /usr/local/lib/python3.10/dist-packages (from scikit-learn) (1.4.2)\n",
            "Requirement already satisfied: threadpoolctl>=2.0.0 in /usr/local/lib/python3.10/dist-packages (from scikit-learn) (3.5.0)\n"
          ]
        }
      ]
    },
    {
      "cell_type": "code",
      "source": [
        "fixed_text_df = pd.read_csv(Path+'Fixed Text Typing Dataset.csv',delimiter=';')\n",
        "free_text_df = pd.read_csv(Path+'Free Text Typing Dataset.csv',delimiter=';')\n",
        "frequency_df = pd.read_csv(Path+'Frequency Dataset.csv',delimiter=';')\n",
        "participations_df = pd.read_csv(Path+'Participants Information.csv',delimiter=';')"
      ],
      "metadata": {
        "id": "NZdgIV4RwDl_"
      },
      "execution_count": 91,
      "outputs": []
    },
    {
      "cell_type": "code",
      "source": [
        "print(fixed_text_df.head())\n",
        "print(free_text_df.head())\n",
        "print(frequency_df.head())"
      ],
      "metadata": {
        "colab": {
          "base_uri": "https://localhost:8080/"
        },
        "id": "4Ari-6cS0D-b",
        "outputId": "ed78e12b-368b-4782-ca97-38f3c8225f0a"
      },
      "execution_count": 92,
      "outputs": [
        {
          "output_type": "stream",
          "name": "stdout",
          "text": [
            "   userId emotionIndex  index keyCode   keyDown     keyUp D1U1  D1U2    D1D2  \\\n",
            "0     100            N   3448       o  1,58E+12  1,58E+12   90  2556  2479.0   \n",
            "1     100            N   3449       n  1,58E+12  1,58E+12   77   258   131.0   \n",
            "2     100            N   3450       c  1,58E+12  1,58E+12  127   613   519.0   \n",
            "3     100            N   3451       e  1,58E+12  1,58E+12   94   276   200.0   \n",
            "4     100            N   3452          1,58E+12  1,58E+12   76  2104  2032.0   \n",
            "\n",
            "   U1D2  U1U2  D1U3    D1D3 answer  \n",
            "0  2389  2466  2737  2610.0    NaN  \n",
            "1    54   181   744   650.0    NaN  \n",
            "2   392   486   795   719.0    NaN  \n",
            "3   106   182  2304  2232.0    NaN  \n",
            "4  1956  2028  2271  2191.0    NaN  \n",
            "                        _id  userid emotionIndex  index keyCode      keyDown  \\\n",
            "0  5e1e2631d2dd163d472fd5ac     100            N    822  \\u0011  1,57903E+12   \n",
            "1  5e1e2631d2dd163d472fd5ad     100            N    823       v  1,57903E+12   \n",
            "2  5e1e2631d2dd163d472fd5ae     100            N    824      \\b  1,57903E+12   \n",
            "3  5e1e2631d2dd163d472fd5af     100            N    825      \\b  1,57903E+12   \n",
            "4  5e1e2631d2dd163d472fd5b0     100            N    826      \\b  1,57903E+12   \n",
            "\n",
            "         keyUp          D1U1          D1U2     D1D2         U1D2  \\\n",
            "0  1,57903E+12           982           764    709.0         -273   \n",
            "1  1,57903E+12            55  -1,57903E+12  23415.0        23360   \n",
            "2          NaN  -1,57903E+12  -1,57903E+12    607.0  1,57903E+12   \n",
            "3          NaN  -1,57903E+12  -1,57903E+12     35.0  1,57903E+12   \n",
            "4          NaN  -1,57903E+12  -1,57903E+12     42.0  1,57903E+12   \n",
            "\n",
            "           U1U2          D1U3     D1D3 answer  \n",
            "0          -218  -1,57903E+12  24124.0    NaN  \n",
            "1  -1,57903E+12  -1,57903E+12  24022.0    NaN  \n",
            "2             0  -1,57903E+12    642.0    NaN  \n",
            "3             0  -1,57903E+12     77.0    NaN  \n",
            "4             0  -1,57903E+12     79.0    NaN  \n",
            "   User ID textIndex emotionIndex  delFreq  leftFreq   TotTime\n",
            "0      100        FI            N        8         1  192762.0\n",
            "1      100        FR            N      145         0       NaN\n",
            "2      100        FR            H        0         0       NaN\n",
            "3      100        FI            H       11         0   99463.0\n",
            "4      113        FI            N       10         0   84265.0\n"
          ]
        }
      ]
    },
    {
      "cell_type": "code",
      "source": [
        "# Check for missing values\n",
        "print(fixed_text_df.isnull().sum())\n",
        "print(free_text_df.isnull().sum())\n",
        "print(frequency_df.isnull().sum())"
      ],
      "metadata": {
        "colab": {
          "base_uri": "https://localhost:8080/"
        },
        "id": "wGjE9Olx0QPA",
        "outputId": "18126344-bdee-4d02-b3f9-ef08758814d5"
      },
      "execution_count": 93,
      "outputs": [
        {
          "output_type": "stream",
          "name": "stdout",
          "text": [
            "userId              0\n",
            "emotionIndex        0\n",
            "index               0\n",
            "keyCode            25\n",
            "keyDown            25\n",
            "keyUp            1313\n",
            "D1U1               25\n",
            "D1U2              265\n",
            "D1D2              265\n",
            "U1D2              265\n",
            "U1U2              265\n",
            "D1U3              507\n",
            "D1D3              507\n",
            "answer          28090\n",
            "dtype: int64\n",
            "_id                 0\n",
            "userid              0\n",
            "emotionIndex        0\n",
            "index               0\n",
            "keyCode             7\n",
            "keyDown             7\n",
            "keyUp            2549\n",
            "D1U1                7\n",
            "D1U2              240\n",
            "D1D2              240\n",
            "U1D2              240\n",
            "U1U2              240\n",
            "D1U3              474\n",
            "D1D3              474\n",
            "answer          20752\n",
            "dtype: int64\n",
            "User ID           0\n",
            "textIndex         0\n",
            "emotionIndex      0\n",
            "delFreq           0\n",
            "leftFreq          0\n",
            "TotTime         235\n",
            "dtype: int64\n"
          ]
        }
      ]
    },
    {
      "cell_type": "code",
      "source": [
        "# Convert columns with mixed types to numeric (will convert non-numeric values to NaN)\n",
        "for col in ['D1U1', 'D1U2', 'D1D2', 'U1D2', 'U1U2', 'D1U3', 'D1D3']:\n",
        "    fixed_text_df[col] = pd.to_numeric(fixed_text_df[col], errors='coerce')\n",
        "\n",
        "# Apply median fill to numeric columns (after conversion)\n",
        "for col in ['D1U1', 'D1U2', 'D1D2', 'U1D2', 'U1U2', 'D1U3', 'D1D3']:\n",
        "    fixed_text_df[col].fillna(fixed_text_df[col].median(), inplace=True)\n",
        "\n",
        "# Apply forward fill for sequential time series data\n",
        "fixed_text_df['keyDown'].ffill(inplace=True)\n",
        "fixed_text_df['keyUp'].ffill(inplace=True)\n",
        "\n",
        "# Fill missing values in the 'answer' column using mode (for categorical data)\n",
        "fixed_text_df['answer'].fillna(fixed_text_df['answer'].mode()[0], inplace=True)\n",
        "\n",
        "# Verify that all missing values are handled\n",
        "print(fixed_text_df.isnull().sum())\n",
        "\n",
        "# If free_text_df and frequency_df need similar handling, repeat the steps for those DataFrames.\n"
      ],
      "metadata": {
        "colab": {
          "base_uri": "https://localhost:8080/"
        },
        "id": "bIW-NmRE0Sq4",
        "outputId": "3ce80879-8936-489e-84b0-103132e62e49"
      },
      "execution_count": 94,
      "outputs": [
        {
          "output_type": "stream",
          "name": "stdout",
          "text": [
            "userId           0\n",
            "emotionIndex     0\n",
            "index            0\n",
            "keyCode         25\n",
            "keyDown          0\n",
            "keyUp            0\n",
            "D1U1             0\n",
            "D1U2             0\n",
            "D1D2             0\n",
            "U1D2             0\n",
            "U1U2             0\n",
            "D1U3             0\n",
            "D1D3             0\n",
            "answer           0\n",
            "dtype: int64\n"
          ]
        }
      ]
    },
    {
      "cell_type": "code",
      "source": [
        "import pandas as pd\n",
        "\n",
        "# Assuming free_text_df is already loaded with your data\n",
        "\n",
        "# Convert columns with mixed types to numeric (will convert non-numeric values to NaN)\n",
        "for col in ['D1U1', 'D1U2', 'D1D2', 'U1D2', 'U1U2', 'D1U3', 'D1D3']:\n",
        "    free_text_df[col] = pd.to_numeric(free_text_df[col], errors='coerce')\n",
        "\n",
        "# Apply median fill to numeric columns (after conversion)\n",
        "for col in ['D1U1', 'D1U2', 'D1D2', 'U1D2', 'U1U2', 'D1U3', 'D1D3']:\n",
        "    free_text_df[col].fillna(free_text_df[col].median(), inplace=True)\n",
        "\n",
        "# Apply forward fill for sequential time series data\n",
        "free_text_df['keyDown'].ffill(inplace=True)\n",
        "free_text_df['keyUp'].ffill(inplace=True)\n",
        "\n",
        "# Fill missing values in the 'answer' column using mode (for categorical data)\n",
        "free_text_df['answer'].fillna(free_text_df['answer'].mode()[0], inplace=True)\n",
        "\n",
        "# Verify that all missing values are handled\n",
        "print(free_text_df.isnull().sum())\n"
      ],
      "metadata": {
        "colab": {
          "base_uri": "https://localhost:8080/"
        },
        "id": "eE2g_Lc60XO2",
        "outputId": "6bcfa443-1134-4d7f-9afa-1fc1274a8e38"
      },
      "execution_count": 95,
      "outputs": [
        {
          "output_type": "stream",
          "name": "stdout",
          "text": [
            "_id             0\n",
            "userid          0\n",
            "emotionIndex    0\n",
            "index           0\n",
            "keyCode         7\n",
            "keyDown         0\n",
            "keyUp           0\n",
            "D1U1            0\n",
            "D1U2            0\n",
            "D1D2            0\n",
            "U1D2            0\n",
            "U1U2            0\n",
            "D1U3            0\n",
            "D1D3            0\n",
            "answer          0\n",
            "dtype: int64\n"
          ]
        }
      ]
    },
    {
      "cell_type": "code",
      "source": [
        "# Handle Missing Values for Fixed Text Typing Dataset\n",
        "for col in ['D1U1', 'D1U2', 'D1D2', 'U1D2', 'U1U2', 'D1U3', 'D1D3']:\n",
        "    fixed_text_df[col] = pd.to_numeric(fixed_text_df[col], errors='coerce')\n",
        "    fixed_text_df[col].fillna(fixed_text_df[col].median(), inplace=True)\n",
        "\n",
        "fixed_text_df['keyDown'].ffill(inplace=True)\n",
        "fixed_text_df['keyUp'].ffill(inplace=True)\n",
        "fixed_text_df['answer'].fillna(fixed_text_df['answer'].mode()[0], inplace=True)\n",
        "\n",
        "# Handle Missing Values for Free Text Typing Dataset\n",
        "for col in ['D1U1', 'D1U2', 'D1D2', 'U1D2', 'U1U2', 'D1U3', 'D1D3']:\n",
        "    free_text_df[col] = pd.to_numeric(free_text_df[col], errors='coerce')\n",
        "    free_text_df[col].fillna(free_text_df[col].median(), inplace=True)\n",
        "\n",
        "free_text_df['keyDown'].ffill(inplace=True)\n",
        "free_text_df['keyUp'].ffill(inplace=True)\n",
        "free_text_df['answer'].fillna(free_text_df['answer'].mode()[0], inplace=True)\n",
        "\n",
        "# Handle Missing Values for Frequency Dataset\n",
        "frequency_df['TotTime'] = pd.to_numeric(frequency_df['TotTime'], errors='coerce')\n",
        "frequency_df['TotTime'].fillna(frequency_df['TotTime'].median(), inplace=True)\n"
      ],
      "metadata": {
        "id": "Nohyzw5x14-C"
      },
      "execution_count": 96,
      "outputs": []
    },
    {
      "cell_type": "code",
      "source": [
        "# Check and remove duplicates for Fixed Text Typing Dataset\n",
        "fixed_text_df.drop_duplicates(inplace=True)\n",
        "\n",
        "# Check and remove duplicates for Free Text Typing Dataset\n",
        "free_text_df.drop_duplicates(inplace=True)\n",
        "\n",
        "# Check and remove duplicates for Frequency Dataset\n",
        "frequency_df.drop_duplicates(inplace=True)"
      ],
      "metadata": {
        "id": "wO3ycmTF2iYL"
      },
      "execution_count": 97,
      "outputs": []
    },
    {
      "cell_type": "code",
      "source": [
        "def remove_outliers(df, column):\n",
        "    Q1 = df[column].quantile(0.25)\n",
        "    Q3 = df[column].quantile(0.75)\n",
        "    IQR = Q3 - Q1\n",
        "    lower_bound = Q1 - 1.5 * IQR\n",
        "    upper_bound = Q3 + 1.5 * IQR\n",
        "    df = df[(df[column] >= lower_bound) & (df[column] <= upper_bound)]\n",
        "    return df\n",
        "\n",
        "# Apply outlier treatment for relevant columns\n",
        "for col in ['D1U1', 'D1U2', 'D1D2', 'U1D2', 'U1U2', 'D1U3', 'D1D3']:\n",
        "    fixed_text_df = remove_outliers(fixed_text_df, col)\n",
        "    free_text_df = remove_outliers(free_text_df, col)\n"
      ],
      "metadata": {
        "id": "isk8Xq7a3VTS"
      },
      "execution_count": 98,
      "outputs": []
    },
    {
      "cell_type": "code",
      "source": [
        "# Convert keyDown and keyUp to datetime in Fixed Text Typing Dataset\n",
        "fixed_text_df['keyDown'] = pd.to_datetime(fixed_text_df['keyDown'], unit='ms', errors='coerce')\n",
        "fixed_text_df['keyUp'] = pd.to_datetime(fixed_text_df['keyUp'], unit='ms', errors='coerce')\n",
        "\n",
        "# Convert keyDown and keyUp to datetime in Free Text Typing Dataset\n",
        "free_text_df['keyDown'] = pd.to_datetime(free_text_df['keyDown'], unit='ms', errors='coerce')\n",
        "free_text_df['keyUp'] = pd.to_datetime(free_text_df['keyUp'], unit='ms', errors='coerce')\n",
        "\n",
        "# Convert categorical columns to 'category' type\n",
        "for df in [fixed_text_df, free_text_df]:\n",
        "    df['emotionIndex'] = df['emotionIndex'].astype('category')\n",
        "    df['keyCode'] = df['keyCode'].astype('category')\n",
        "    df['answer'] = df['answer'].astype('category')\n",
        "\n",
        "# Convert TotTime in Frequency Dataset to numeric if not already done\n",
        "frequency_df['TotTime'] = pd.to_numeric(frequency_df['TotTime'], errors='coerce')\n"
      ],
      "metadata": {
        "id": "PYCXqrjI40WT"
      },
      "execution_count": 99,
      "outputs": []
    },
    {
      "cell_type": "code",
      "source": [
        "from sklearn.preprocessing import StandardScaler\n",
        "\n",
        "\n",
        "# Standardize numeric columns in Fixed Text Typing Dataset\n",
        "scaler = StandardScaler()\n",
        "fixed_text_df[['D1U1', 'D1U2', 'D1D2', 'U1D2', 'U1U2', 'D1U3', 'D1D3']] = scaler.fit_transform(fixed_text_df[['D1U1', 'D1U2', 'D1D2', 'U1D2', 'U1U2', 'D1U3', 'D1D3']])\n",
        "\n",
        "# Standardize numeric columns in Free Text Typing Dataset\n",
        "free_text_df[['D1U1', 'D1U2', 'D1D2', 'U1D2', 'U1U2', 'D1U3', 'D1D3']] = scaler.fit_transform(free_text_df[['D1U1', 'D1U2', 'D1D2', 'U1D2', 'U1U2', 'D1U3', 'D1D3']])\n",
        "\n",
        "# Standardize TotTime in Frequency Dataset\n",
        "frequency_df[['TotTime']] = scaler.fit_transform(frequency_df[['TotTime']])\n"
      ],
      "metadata": {
        "id": "V_2Hcnvw49RE"
      },
      "execution_count": 100,
      "outputs": []
    },
    {
      "cell_type": "code",
      "source": [
        "# One-hot encode categorical variables in Fixed Text Typing Dataset\n",
        "fixed_text_df = pd.get_dummies(fixed_text_df, columns=['emotionIndex', 'keyCode', 'answer'], drop_first=True)\n",
        "\n",
        "# One-hot encode categorical variables in Free Text Typing Dataset\n",
        "free_text_df = pd.get_dummies(free_text_df, columns=['emotionIndex', 'keyCode', 'answer'], drop_first=True)\n",
        "\n",
        "# One-hot encode categorical variables in Frequency Dataset (if any)\n",
        "frequency_df = pd.get_dummies(frequency_df, columns=['emotionIndex'], drop_first=True)\n"
      ],
      "metadata": {
        "id": "EiyNPd675Nkp"
      },
      "execution_count": 101,
      "outputs": []
    },
    {
      "cell_type": "code",
      "source": [
        "# Reset index and final check for anomalies in Fixed Text Typing Dataset\n",
        "fixed_text_df.reset_index(drop=True, inplace=True)\n",
        "print(fixed_text_df.info())\n",
        "\n",
        "# Reset index and final check for anomalies in Free Text Typing Dataset\n",
        "free_text_df.reset_index(drop=True, inplace=True)\n",
        "print(free_text_df.info())\n",
        "\n",
        "# Reset index and final check for anomalies in Frequency Dataset\n",
        "frequency_df.reset_index(drop=True, inplace=True)\n",
        "print(frequency_df.info())"
      ],
      "metadata": {
        "colab": {
          "base_uri": "https://localhost:8080/"
        },
        "id": "naspI_sl5I31",
        "outputId": "d6f6ac1b-eba5-432c-a464-9f8d2d041c09"
      },
      "execution_count": 102,
      "outputs": [
        {
          "output_type": "stream",
          "name": "stdout",
          "text": [
            "<class 'pandas.core.frame.DataFrame'>\n",
            "RangeIndex: 33434 entries, 0 to 33433\n",
            "Data columns (total 62 columns):\n",
            " #   Column          Non-Null Count  Dtype         \n",
            "---  ------          --------------  -----         \n",
            " 0   userId          33434 non-null  int64         \n",
            " 1   index           33434 non-null  int64         \n",
            " 2   keyDown         0 non-null      datetime64[ns]\n",
            " 3   keyUp           0 non-null      datetime64[ns]\n",
            " 4   D1U1            33434 non-null  float64       \n",
            " 5   D1U2            33434 non-null  float64       \n",
            " 6   D1D2            33434 non-null  float64       \n",
            " 7   U1D2            33434 non-null  float64       \n",
            " 8   U1U2            33434 non-null  float64       \n",
            " 9   D1U3            33434 non-null  float64       \n",
            " 10  D1D3            33434 non-null  float64       \n",
            " 11  emotionIndex_C  33434 non-null  bool          \n",
            " 12  emotionIndex_H  33434 non-null  bool          \n",
            " 13  emotionIndex_N  33434 non-null  bool          \n",
            " 14  emotionIndex_S  33434 non-null  bool          \n",
            " 15  keyCode_%       33434 non-null  bool          \n",
            " 16  keyCode_&       33434 non-null  bool          \n",
            " 17  keyCode_'       33434 non-null  bool          \n",
            " 18  keyCode_(       33434 non-null  bool          \n",
            " 19  keyCode_.       33434 non-null  bool          \n",
            " 20  keyCode_\\b      33434 non-null  bool          \n",
            " 21  keyCode_\\r      33434 non-null  bool          \n",
            " 22  keyCode_\\u0010  33434 non-null  bool          \n",
            " 23  keyCode_\\u0011  33434 non-null  bool          \n",
            " 24  keyCode_\\u0014  33434 non-null  bool          \n",
            " 25  keyCode_]       33434 non-null  bool          \n",
            " 26  keyCode_a       33434 non-null  bool          \n",
            " 27  keyCode_b       33434 non-null  bool          \n",
            " 28  keyCode_c       33434 non-null  bool          \n",
            " 29  keyCode_d       33434 non-null  bool          \n",
            " 30  keyCode_e       33434 non-null  bool          \n",
            " 31  keyCode_f       33434 non-null  bool          \n",
            " 32  keyCode_g       33434 non-null  bool          \n",
            " 33  keyCode_h       33434 non-null  bool          \n",
            " 34  keyCode_i       33434 non-null  bool          \n",
            " 35  keyCode_j       33434 non-null  bool          \n",
            " 36  keyCode_k       33434 non-null  bool          \n",
            " 37  keyCode_l       33434 non-null  bool          \n",
            " 38  keyCode_m       33434 non-null  bool          \n",
            " 39  keyCode_n       33434 non-null  bool          \n",
            " 40  keyCode_o       33434 non-null  bool          \n",
            " 41  keyCode_p       33434 non-null  bool          \n",
            " 42  keyCode_q       33434 non-null  bool          \n",
            " 43  keyCode_r       33434 non-null  bool          \n",
            " 44  keyCode_s       33434 non-null  bool          \n",
            " 45  keyCode_t       33434 non-null  bool          \n",
            " 46  keyCode_u       33434 non-null  bool          \n",
            " 47  keyCode_v       33434 non-null  bool          \n",
            " 48  keyCode_w       33434 non-null  bool          \n",
            " 49  keyCode_x       33434 non-null  bool          \n",
            " 50  keyCode_y       33434 non-null  bool          \n",
            " 51  keyCode_z       33434 non-null  bool          \n",
            " 52  keyCode_®       33434 non-null  bool          \n",
            " 53  keyCode_»       33434 non-null  bool          \n",
            " 54  keyCode_¼       33434 non-null  bool          \n",
            " 55  keyCode_½       33434 non-null  bool          \n",
            " 56  keyCode_¾       33434 non-null  bool          \n",
            " 57  keyCode_¿       33434 non-null  bool          \n",
            " 58  keyCode_à       33434 non-null  bool          \n",
            " 59  keyCode_â       33434 non-null  bool          \n",
            " 60  keyCode_å       33434 non-null  bool          \n",
            " 61  answer_W        33434 non-null  bool          \n",
            "dtypes: bool(51), datetime64[ns](2), float64(7), int64(2)\n",
            "memory usage: 4.4 MB\n",
            "None\n",
            "<class 'pandas.core.frame.DataFrame'>\n",
            "RangeIndex: 19357 entries, 0 to 19356\n",
            "Data columns (total 74 columns):\n",
            " #   Column          Non-Null Count  Dtype         \n",
            "---  ------          --------------  -----         \n",
            " 0   _id             19357 non-null  object        \n",
            " 1   userid          19357 non-null  int64         \n",
            " 2   index           19357 non-null  int64         \n",
            " 3   keyDown         0 non-null      datetime64[ns]\n",
            " 4   keyUp           0 non-null      datetime64[ns]\n",
            " 5   D1U1            19357 non-null  float64       \n",
            " 6   D1U2            19357 non-null  float64       \n",
            " 7   D1D2            19357 non-null  float64       \n",
            " 8   U1D2            19357 non-null  float64       \n",
            " 9   U1U2            19357 non-null  float64       \n",
            " 10  D1U3            19357 non-null  float64       \n",
            " 11  D1D3            19357 non-null  float64       \n",
            " 12  emotionIndex_C  19357 non-null  bool          \n",
            " 13  emotionIndex_H  19357 non-null  bool          \n",
            " 14  emotionIndex_N  19357 non-null  bool          \n",
            " 15  emotionIndex_S  19357 non-null  bool          \n",
            " 16  keyCode_%       19357 non-null  bool          \n",
            " 17  keyCode_'       19357 non-null  bool          \n",
            " 18  keyCode_.       19357 non-null  bool          \n",
            " 19  keyCode_0       19357 non-null  bool          \n",
            " 20  keyCode_2       19357 non-null  bool          \n",
            " 21  keyCode_3       19357 non-null  bool          \n",
            " 22  keyCode_4       19357 non-null  bool          \n",
            " 23  keyCode_5       19357 non-null  bool          \n",
            " 24  keyCode_6       19357 non-null  bool          \n",
            " 25  keyCode_8       19357 non-null  bool          \n",
            " 26  keyCode_\\b      19357 non-null  bool          \n",
            " 27  keyCode_\\r      19357 non-null  bool          \n",
            " 28  keyCode_\\u0010  19357 non-null  bool          \n",
            " 29  keyCode_\\u0011  19357 non-null  bool          \n",
            " 30  keyCode_\\u0014  19357 non-null  bool          \n",
            " 31  keyCode_`       19357 non-null  bool          \n",
            " 32  keyCode_a       19357 non-null  bool          \n",
            " 33  keyCode_b       19357 non-null  bool          \n",
            " 34  keyCode_c       19357 non-null  bool          \n",
            " 35  keyCode_d       19357 non-null  bool          \n",
            " 36  keyCode_e       19357 non-null  bool          \n",
            " 37  keyCode_f       19357 non-null  bool          \n",
            " 38  keyCode_g       19357 non-null  bool          \n",
            " 39  keyCode_h       19357 non-null  bool          \n",
            " 40  keyCode_i       19357 non-null  bool          \n",
            " 41  keyCode_j       19357 non-null  bool          \n",
            " 42  keyCode_k       19357 non-null  bool          \n",
            " 43  keyCode_l       19357 non-null  bool          \n",
            " 44  keyCode_m       19357 non-null  bool          \n",
            " 45  keyCode_n       19357 non-null  bool          \n",
            " 46  keyCode_o       19357 non-null  bool          \n",
            " 47  keyCode_p       19357 non-null  bool          \n",
            " 48  keyCode_q       19357 non-null  bool          \n",
            " 49  keyCode_r       19357 non-null  bool          \n",
            " 50  keyCode_s       19357 non-null  bool          \n",
            " 51  keyCode_t       19357 non-null  bool          \n",
            " 52  keyCode_u       19357 non-null  bool          \n",
            " 53  keyCode_v       19357 non-null  bool          \n",
            " 54  keyCode_w       19357 non-null  bool          \n",
            " 55  keyCode_x       19357 non-null  bool          \n",
            " 56  keyCode_y       19357 non-null  bool          \n",
            " 57  keyCode_z       19357 non-null  bool          \n",
            " 58  keyCode_       19357 non-null  bool          \n",
            " 59  keyCode_¡       19357 non-null  bool          \n",
            " 60  keyCode_©       19357 non-null  bool          \n",
            " 61  keyCode_º       19357 non-null  bool          \n",
            " 62  keyCode_»       19357 non-null  bool          \n",
            " 63  keyCode_¼       19357 non-null  bool          \n",
            " 64  keyCode_½       19357 non-null  bool          \n",
            " 65  keyCode_¾       19357 non-null  bool          \n",
            " 66  keyCode_¿       19357 non-null  bool          \n",
            " 67  keyCode_ß       19357 non-null  bool          \n",
            " 68  keyCode_à       19357 non-null  bool          \n",
            " 69  keyCode_â       19357 non-null  bool          \n",
            " 70  keyCode_å       19357 non-null  bool          \n",
            " 71  keyCode_ý       19357 non-null  bool          \n",
            " 72  keyCode_þ       19357 non-null  bool          \n",
            " 73  answer_W        19357 non-null  bool          \n",
            "dtypes: bool(62), datetime64[ns](2), float64(7), int64(2), object(1)\n",
            "memory usage: 2.9+ MB\n",
            "None\n",
            "<class 'pandas.core.frame.DataFrame'>\n",
            "RangeIndex: 476 entries, 0 to 475\n",
            "Data columns (total 9 columns):\n",
            " #   Column          Non-Null Count  Dtype  \n",
            "---  ------          --------------  -----  \n",
            " 0   User ID         476 non-null    int64  \n",
            " 1   textIndex       476 non-null    object \n",
            " 2   delFreq         476 non-null    int64  \n",
            " 3   leftFreq        476 non-null    int64  \n",
            " 4   TotTime         476 non-null    float64\n",
            " 5   emotionIndex_C  476 non-null    bool   \n",
            " 6   emotionIndex_H  476 non-null    bool   \n",
            " 7   emotionIndex_N  476 non-null    bool   \n",
            " 8   emotionIndex_S  476 non-null    bool   \n",
            "dtypes: bool(4), float64(1), int64(3), object(1)\n",
            "memory usage: 20.6+ KB\n",
            "None\n"
          ]
        }
      ]
    },
    {
      "cell_type": "code",
      "source": [
        "print(fixed_text_df.head())\n",
        "print(free_text_df.head())\n",
        "print(frequency_df.head())"
      ],
      "metadata": {
        "colab": {
          "base_uri": "https://localhost:8080/"
        },
        "id": "5aAG0P8H5aba",
        "outputId": "813ebe04-9730-43d2-91f7-5a143a294801"
      },
      "execution_count": 103,
      "outputs": [
        {
          "output_type": "stream",
          "name": "stdout",
          "text": [
            "   userId  index keyDown keyUp      D1U1      D1U2      D1D2      U1D2  \\\n",
            "0     100   3449     NaT   NaT -0.539879 -0.574610 -0.800783 -0.714193   \n",
            "1     100   3450     NaT   NaT  0.919440  2.782064  2.889153  2.637198   \n",
            "2     100   3453     NaT   NaT -0.685811 -0.754264 -0.534499 -0.386986   \n",
            "3     100   3456     NaT   NaT -0.452320  0.049447 -0.230174 -0.149017   \n",
            "4     100   3459     NaT   NaT -1.065234  1.070633  1.082226  1.427524   \n",
            "\n",
            "       U1U2      D1U3  ...  keyCode_®  keyCode_»  keyCode_¼  keyCode_½  \\\n",
            "0 -0.311410  0.916824  ...      False      False      False      False   \n",
            "1  2.477260  1.192076  ...      False      False      False      False   \n",
            "2 -0.439415  1.246047  ...      False      False      False      False   \n",
            "3  0.264610 -0.648334  ...      False      False      False      False   \n",
            "4  1.444081  1.202870  ...      False      False      False      False   \n",
            "\n",
            "   keyCode_¾  keyCode_¿  keyCode_à  keyCode_â  keyCode_å  answer_W  \n",
            "0      False      False      False      False      False     False  \n",
            "1      False      False      False      False      False     False  \n",
            "2      False      False      False      False      False     False  \n",
            "3      False      False      False      False      False     False  \n",
            "4      False      False      False      False      False     False  \n",
            "\n",
            "[5 rows x 62 columns]\n",
            "                        _id  userid  index keyDown keyUp      D1U1      D1U2  \\\n",
            "0  5e1e2631d2dd163d472fd5af     100    825     NaT   NaT -0.046546  0.252645   \n",
            "1  5e1e2631d2dd163d472fd5b0     100    826     NaT   NaT -0.046546  0.252645   \n",
            "2  5e1e2631d2dd163d472fd5b1     100    827     NaT   NaT -0.046546  0.252645   \n",
            "3  5e1e2631d2dd163d472fd5b2     100    828     NaT   NaT -0.046546  0.252645   \n",
            "4  5e1e2631d2dd163d472fd5b3     100    829     NaT   NaT -0.046546  0.252645   \n",
            "\n",
            "       D1D2      U1D2      U1U2  ...  keyCode_½  keyCode_¾  keyCode_¿  \\\n",
            "0 -1.558873  0.232617 -1.775806  ...      False      False      False   \n",
            "1 -1.481666  0.232617 -1.775806  ...      False      False      False   \n",
            "2 -1.536814  0.232617 -1.775806  ...      False      False      False   \n",
            "3 -1.536814  0.232617 -1.775806  ...      False      False      False   \n",
            "4 -1.547843  0.232617 -1.775806  ...      False      False      False   \n",
            "\n",
            "   keyCode_ß  keyCode_à  keyCode_â  keyCode_å  keyCode_ý  keyCode_þ  answer_W  \n",
            "0      False      False      False      False      False      False     False  \n",
            "1      False      False      False      False      False      False     False  \n",
            "2      False      False      False      False      False      False     False  \n",
            "3      False      False      False      False      False      False     False  \n",
            "4      False      False      False      False      False      False     False  \n",
            "\n",
            "[5 rows x 74 columns]\n",
            "   User ID textIndex  delFreq  leftFreq   TotTime  emotionIndex_C  \\\n",
            "0      100        FI        8         1  2.105701           False   \n",
            "1      100        FR      145         0 -0.182984           False   \n",
            "2      100        FR        0         0 -0.182984           False   \n",
            "3      100        FI       11         0  0.439032           False   \n",
            "4      113        FI       10         0  0.167539           False   \n",
            "\n",
            "   emotionIndex_H  emotionIndex_N  emotionIndex_S  \n",
            "0           False            True           False  \n",
            "1           False            True           False  \n",
            "2            True           False           False  \n",
            "3            True           False           False  \n",
            "4           False            True           False  \n"
          ]
        }
      ]
    },
    {
      "cell_type": "code",
      "source": [
        "print(fixed_text_df.info())\n",
        "print(free_text_df.info())\n",
        "print(frequency_df.info())"
      ],
      "metadata": {
        "colab": {
          "base_uri": "https://localhost:8080/"
        },
        "id": "Y7GB8ZHE5w5w",
        "outputId": "d8d16c34-9bcb-4fae-abd6-82f770bfd0fe"
      },
      "execution_count": 104,
      "outputs": [
        {
          "output_type": "stream",
          "name": "stdout",
          "text": [
            "<class 'pandas.core.frame.DataFrame'>\n",
            "RangeIndex: 33434 entries, 0 to 33433\n",
            "Data columns (total 62 columns):\n",
            " #   Column          Non-Null Count  Dtype         \n",
            "---  ------          --------------  -----         \n",
            " 0   userId          33434 non-null  int64         \n",
            " 1   index           33434 non-null  int64         \n",
            " 2   keyDown         0 non-null      datetime64[ns]\n",
            " 3   keyUp           0 non-null      datetime64[ns]\n",
            " 4   D1U1            33434 non-null  float64       \n",
            " 5   D1U2            33434 non-null  float64       \n",
            " 6   D1D2            33434 non-null  float64       \n",
            " 7   U1D2            33434 non-null  float64       \n",
            " 8   U1U2            33434 non-null  float64       \n",
            " 9   D1U3            33434 non-null  float64       \n",
            " 10  D1D3            33434 non-null  float64       \n",
            " 11  emotionIndex_C  33434 non-null  bool          \n",
            " 12  emotionIndex_H  33434 non-null  bool          \n",
            " 13  emotionIndex_N  33434 non-null  bool          \n",
            " 14  emotionIndex_S  33434 non-null  bool          \n",
            " 15  keyCode_%       33434 non-null  bool          \n",
            " 16  keyCode_&       33434 non-null  bool          \n",
            " 17  keyCode_'       33434 non-null  bool          \n",
            " 18  keyCode_(       33434 non-null  bool          \n",
            " 19  keyCode_.       33434 non-null  bool          \n",
            " 20  keyCode_\\b      33434 non-null  bool          \n",
            " 21  keyCode_\\r      33434 non-null  bool          \n",
            " 22  keyCode_\\u0010  33434 non-null  bool          \n",
            " 23  keyCode_\\u0011  33434 non-null  bool          \n",
            " 24  keyCode_\\u0014  33434 non-null  bool          \n",
            " 25  keyCode_]       33434 non-null  bool          \n",
            " 26  keyCode_a       33434 non-null  bool          \n",
            " 27  keyCode_b       33434 non-null  bool          \n",
            " 28  keyCode_c       33434 non-null  bool          \n",
            " 29  keyCode_d       33434 non-null  bool          \n",
            " 30  keyCode_e       33434 non-null  bool          \n",
            " 31  keyCode_f       33434 non-null  bool          \n",
            " 32  keyCode_g       33434 non-null  bool          \n",
            " 33  keyCode_h       33434 non-null  bool          \n",
            " 34  keyCode_i       33434 non-null  bool          \n",
            " 35  keyCode_j       33434 non-null  bool          \n",
            " 36  keyCode_k       33434 non-null  bool          \n",
            " 37  keyCode_l       33434 non-null  bool          \n",
            " 38  keyCode_m       33434 non-null  bool          \n",
            " 39  keyCode_n       33434 non-null  bool          \n",
            " 40  keyCode_o       33434 non-null  bool          \n",
            " 41  keyCode_p       33434 non-null  bool          \n",
            " 42  keyCode_q       33434 non-null  bool          \n",
            " 43  keyCode_r       33434 non-null  bool          \n",
            " 44  keyCode_s       33434 non-null  bool          \n",
            " 45  keyCode_t       33434 non-null  bool          \n",
            " 46  keyCode_u       33434 non-null  bool          \n",
            " 47  keyCode_v       33434 non-null  bool          \n",
            " 48  keyCode_w       33434 non-null  bool          \n",
            " 49  keyCode_x       33434 non-null  bool          \n",
            " 50  keyCode_y       33434 non-null  bool          \n",
            " 51  keyCode_z       33434 non-null  bool          \n",
            " 52  keyCode_®       33434 non-null  bool          \n",
            " 53  keyCode_»       33434 non-null  bool          \n",
            " 54  keyCode_¼       33434 non-null  bool          \n",
            " 55  keyCode_½       33434 non-null  bool          \n",
            " 56  keyCode_¾       33434 non-null  bool          \n",
            " 57  keyCode_¿       33434 non-null  bool          \n",
            " 58  keyCode_à       33434 non-null  bool          \n",
            " 59  keyCode_â       33434 non-null  bool          \n",
            " 60  keyCode_å       33434 non-null  bool          \n",
            " 61  answer_W        33434 non-null  bool          \n",
            "dtypes: bool(51), datetime64[ns](2), float64(7), int64(2)\n",
            "memory usage: 4.4 MB\n",
            "None\n",
            "<class 'pandas.core.frame.DataFrame'>\n",
            "RangeIndex: 19357 entries, 0 to 19356\n",
            "Data columns (total 74 columns):\n",
            " #   Column          Non-Null Count  Dtype         \n",
            "---  ------          --------------  -----         \n",
            " 0   _id             19357 non-null  object        \n",
            " 1   userid          19357 non-null  int64         \n",
            " 2   index           19357 non-null  int64         \n",
            " 3   keyDown         0 non-null      datetime64[ns]\n",
            " 4   keyUp           0 non-null      datetime64[ns]\n",
            " 5   D1U1            19357 non-null  float64       \n",
            " 6   D1U2            19357 non-null  float64       \n",
            " 7   D1D2            19357 non-null  float64       \n",
            " 8   U1D2            19357 non-null  float64       \n",
            " 9   U1U2            19357 non-null  float64       \n",
            " 10  D1U3            19357 non-null  float64       \n",
            " 11  D1D3            19357 non-null  float64       \n",
            " 12  emotionIndex_C  19357 non-null  bool          \n",
            " 13  emotionIndex_H  19357 non-null  bool          \n",
            " 14  emotionIndex_N  19357 non-null  bool          \n",
            " 15  emotionIndex_S  19357 non-null  bool          \n",
            " 16  keyCode_%       19357 non-null  bool          \n",
            " 17  keyCode_'       19357 non-null  bool          \n",
            " 18  keyCode_.       19357 non-null  bool          \n",
            " 19  keyCode_0       19357 non-null  bool          \n",
            " 20  keyCode_2       19357 non-null  bool          \n",
            " 21  keyCode_3       19357 non-null  bool          \n",
            " 22  keyCode_4       19357 non-null  bool          \n",
            " 23  keyCode_5       19357 non-null  bool          \n",
            " 24  keyCode_6       19357 non-null  bool          \n",
            " 25  keyCode_8       19357 non-null  bool          \n",
            " 26  keyCode_\\b      19357 non-null  bool          \n",
            " 27  keyCode_\\r      19357 non-null  bool          \n",
            " 28  keyCode_\\u0010  19357 non-null  bool          \n",
            " 29  keyCode_\\u0011  19357 non-null  bool          \n",
            " 30  keyCode_\\u0014  19357 non-null  bool          \n",
            " 31  keyCode_`       19357 non-null  bool          \n",
            " 32  keyCode_a       19357 non-null  bool          \n",
            " 33  keyCode_b       19357 non-null  bool          \n",
            " 34  keyCode_c       19357 non-null  bool          \n",
            " 35  keyCode_d       19357 non-null  bool          \n",
            " 36  keyCode_e       19357 non-null  bool          \n",
            " 37  keyCode_f       19357 non-null  bool          \n",
            " 38  keyCode_g       19357 non-null  bool          \n",
            " 39  keyCode_h       19357 non-null  bool          \n",
            " 40  keyCode_i       19357 non-null  bool          \n",
            " 41  keyCode_j       19357 non-null  bool          \n",
            " 42  keyCode_k       19357 non-null  bool          \n",
            " 43  keyCode_l       19357 non-null  bool          \n",
            " 44  keyCode_m       19357 non-null  bool          \n",
            " 45  keyCode_n       19357 non-null  bool          \n",
            " 46  keyCode_o       19357 non-null  bool          \n",
            " 47  keyCode_p       19357 non-null  bool          \n",
            " 48  keyCode_q       19357 non-null  bool          \n",
            " 49  keyCode_r       19357 non-null  bool          \n",
            " 50  keyCode_s       19357 non-null  bool          \n",
            " 51  keyCode_t       19357 non-null  bool          \n",
            " 52  keyCode_u       19357 non-null  bool          \n",
            " 53  keyCode_v       19357 non-null  bool          \n",
            " 54  keyCode_w       19357 non-null  bool          \n",
            " 55  keyCode_x       19357 non-null  bool          \n",
            " 56  keyCode_y       19357 non-null  bool          \n",
            " 57  keyCode_z       19357 non-null  bool          \n",
            " 58  keyCode_       19357 non-null  bool          \n",
            " 59  keyCode_¡       19357 non-null  bool          \n",
            " 60  keyCode_©       19357 non-null  bool          \n",
            " 61  keyCode_º       19357 non-null  bool          \n",
            " 62  keyCode_»       19357 non-null  bool          \n",
            " 63  keyCode_¼       19357 non-null  bool          \n",
            " 64  keyCode_½       19357 non-null  bool          \n",
            " 65  keyCode_¾       19357 non-null  bool          \n",
            " 66  keyCode_¿       19357 non-null  bool          \n",
            " 67  keyCode_ß       19357 non-null  bool          \n",
            " 68  keyCode_à       19357 non-null  bool          \n",
            " 69  keyCode_â       19357 non-null  bool          \n",
            " 70  keyCode_å       19357 non-null  bool          \n",
            " 71  keyCode_ý       19357 non-null  bool          \n",
            " 72  keyCode_þ       19357 non-null  bool          \n",
            " 73  answer_W        19357 non-null  bool          \n",
            "dtypes: bool(62), datetime64[ns](2), float64(7), int64(2), object(1)\n",
            "memory usage: 2.9+ MB\n",
            "None\n",
            "<class 'pandas.core.frame.DataFrame'>\n",
            "RangeIndex: 476 entries, 0 to 475\n",
            "Data columns (total 9 columns):\n",
            " #   Column          Non-Null Count  Dtype  \n",
            "---  ------          --------------  -----  \n",
            " 0   User ID         476 non-null    int64  \n",
            " 1   textIndex       476 non-null    object \n",
            " 2   delFreq         476 non-null    int64  \n",
            " 3   leftFreq        476 non-null    int64  \n",
            " 4   TotTime         476 non-null    float64\n",
            " 5   emotionIndex_C  476 non-null    bool   \n",
            " 6   emotionIndex_H  476 non-null    bool   \n",
            " 7   emotionIndex_N  476 non-null    bool   \n",
            " 8   emotionIndex_S  476 non-null    bool   \n",
            "dtypes: bool(4), float64(1), int64(3), object(1)\n",
            "memory usage: 20.6+ KB\n",
            "None\n"
          ]
        }
      ]
    },
    {
      "cell_type": "markdown",
      "source": [],
      "metadata": {
        "id": "dOZsmvLq82fr"
      }
    },
    {
      "cell_type": "code",
      "source": [
        "# Export and save the cleaned Fixed Text Typing Dataset\n",
        "fixed_text_df.to_csv(Path + 'cleaned_fixed_text_typing_dataset.csv', index=False)\n",
        "\n",
        "# Export and save the cleaned Free Text Typing Dataset\n",
        "free_text_df.to_csv(Path + 'cleaned_free_text_typing_dataset.csv', index=False)\n",
        "\n",
        "# Export and save the cleaned Frequency Dataset (if applicable)\n",
        "frequency_df.to_csv(Path + 'cleaned_frequency_dataset.csv', index=False)\n"
      ],
      "metadata": {
        "id": "DBEio6Gq7bdg"
      },
      "execution_count": 107,
      "outputs": []
    }
  ]
}